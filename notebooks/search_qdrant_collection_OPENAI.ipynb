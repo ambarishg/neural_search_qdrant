{
 "cells": [
  {
   "cell_type": "code",
   "execution_count": 15,
   "metadata": {},
   "outputs": [],
   "source": [
    "# Qdrant server URL\n",
    "URL =\"localhost\"\n",
    "# Qdrant dimension of the collection\n",
    "DIMENSION = 1536\n",
    "# Qdrant collection name\n",
    "COLLECTION_NAME = \"STARTUPS_OPENAI_EMBEDDINGS\"\n",
    "METRIC_NAME =\"COSINE\""
   ]
  },
  {
   "cell_type": "code",
   "execution_count": 16,
   "metadata": {},
   "outputs": [],
   "source": [
    "from sentence_transformers import SentenceTransformer\n",
    "import qdrant_client as qc\n",
    "import qdrant_client.http.models as qmodels\n",
    "from qdrant_client.http.models import *\n",
    "from openai_embeddings import get_embeddings_azure_openai"
   ]
  },
  {
   "cell_type": "code",
   "execution_count": 17,
   "metadata": {},
   "outputs": [],
   "source": [
    "question = \"youtube marketing\""
   ]
  },
  {
   "cell_type": "code",
   "execution_count": 18,
   "metadata": {},
   "outputs": [
    {
     "name": "stdout",
     "output_type": "stream",
     "text": [
      "1536\n"
     ]
    }
   ],
   "source": [
    "vector = get_embeddings_azure_openai(question)"
   ]
  },
  {
   "cell_type": "code",
   "execution_count": 19,
   "metadata": {},
   "outputs": [
    {
     "data": {
      "text/plain": [
       "1536"
      ]
     },
     "execution_count": 19,
     "metadata": {},
     "output_type": "execute_result"
    }
   ],
   "source": [
    "len(vector)"
   ]
  },
  {
   "cell_type": "code",
   "execution_count": 20,
   "metadata": {},
   "outputs": [],
   "source": [
    "qdrant_client = qc.QdrantClient(URL)"
   ]
  },
  {
   "cell_type": "code",
   "execution_count": 21,
   "metadata": {},
   "outputs": [
    {
     "data": {
      "text/plain": [
       "'STARTUPS_OPENAI_EMBEDDINGS'"
      ]
     },
     "execution_count": 21,
     "metadata": {},
     "output_type": "execute_result"
    }
   ],
   "source": [
    "COLLECTION_NAME"
   ]
  },
  {
   "cell_type": "code",
   "execution_count": 31,
   "metadata": {},
   "outputs": [],
   "source": [
    "search_result = qdrant_client.search(\n",
    "    collection_name=COLLECTION_NAME,\n",
    "    query_vector=vector,\n",
    "    query_filter=None,  # If you don't want any filters for now\n",
    "    limit=10 # 10 the most closest results is enough\n",
    ")\n",
    "# `search_result` contains found vector ids with similarity scores along with the stored payload\n",
    "# In this function you are interested in payload only\n",
    "payloads = [hit.payload for hit in search_result]"
   ]
  },
  {
   "cell_type": "code",
   "execution_count": 32,
   "metadata": {},
   "outputs": [],
   "source": [
    "from pprint import pprint"
   ]
  },
  {
   "cell_type": "code",
   "execution_count": 33,
   "metadata": {},
   "outputs": [
    {
     "name": "stdout",
     "output_type": "stream",
     "text": [
      " Result:1\n",
      "('Lightswitch -  video online video advertising mobile video Online video '\n",
      " 'products to help local businesses find new customers.\\n'\n",
      " 'Online video products that help small business owners reach and convert new '\n",
      " 'customers.')\n",
      "'City is Chicago'\n",
      "=================\n",
      " Result:2\n",
      "('Storymix Media -  digital media video B2B brand marketing Crowdsourced '\n",
      " 'content and automated video creation platform (Capital Factory 2011)\\n'\n",
      " \"Millions of videos are taken at events like your child's soccer game, SXSW, \"\n",
      " 'or the CES. Yet 99% of those videos are never seen, much less transformed '\n",
      " 'into something of value.\\n'\n",
      " 'Enter VideoStitch. Easily crowdsource and access the video clips and photos '\n",
      " 'from everyone ...')\n",
      "'City is Chicago'\n",
      "=================\n",
      " Result:3\n",
      "(\"Curiosity.com -  mobile digital media education video streaming The web's \"\n",
      " 'best learning content.\\n'\n",
      " \"We've aggregated and organized hundreds of thousands of the web's best \"\n",
      " 'learning videos and content providers so you can discover and learn '\n",
      " 'something new every day.')\n",
      "'City is Chicago'\n",
      "=================\n",
      " Result:4\n",
      "'Tap.me -  mobile games video games mobile games '\n",
      "'City is Chicago'\n",
      "=================\n",
      " Result:5\n",
      "('Brickfish -  social media platforms social media marketing apps social '\n",
      " 'network media ')\n",
      "'City is Chicago'\n",
      "=================\n",
      " Result:6\n",
      "('BigMarker -  video streaming video conferencing events services Host web '\n",
      " 'conferences or discover thousands already happening.\\n'\n",
      " 'BigMarker is a platform for learning and sharing through web conferences. '\n",
      " \"Since 2010, we've helped thought leaders, speakers, and organizations host \"\n",
      " 'webinars and online events on a variety of topics -- from career coaching '\n",
      " 'for veterans to professional development ...')\n",
      "'City is Chicago'\n",
      "=================\n",
      " Result:7\n",
      "('MyZeus -  digital media communities content discovery Let friends decide '\n",
      " 'what you watch\\n'\n",
      " \"We're out to make finding a movie just as much fun as watching it.\")\n",
      "'City is Chicago'\n",
      "=================\n",
      " Result:8\n",
      "('emazeMe -  social media social commerce local services local businesses '\n",
      " 'Social Directory\\n'\n",
      " 'The coolest way to build and share lists of your favorite businesses with '\n",
      " 'friends. Think a local Twitter meets a private, personalized Yelp.')\n",
      "'City is Chicago'\n",
      "=================\n",
      " Result:9\n",
      "('Blueye -  social media analytics mobile advertising social media advertising '\n",
      " 'Turning Social Data into Opportunity\\n'\n",
      " 'Our platform works with brands to harness data from user actions and from '\n",
      " 'there provide the ability to retarget users very specifically on that data '\n",
      " 'through various advertising platforms all from one place.\\n'\n",
      " '- What a customer likes, has interest in\\n'\n",
      " '- ...')\n",
      "'City is Chicago'\n",
      "=================\n",
      " Result:10\n",
      "('Buzz Digital -  social media lead generation Trackable buzz through the '\n",
      " 'websites, blogs and social connections that people trust.\\n'\n",
      " 'With a single line of code, Buzz Referrals allows any company to have its '\n",
      " 'own, branded referral program that integrates with both social media and its '\n",
      " 'own website.\\n'\n",
      " 'Our programs create inbound links, generate social media followers, and '\n",
      " 'drive incremental revenue, ...')\n",
      "'City is Chicago'\n",
      "=================\n"
     ]
    }
   ],
   "source": [
    "counter = 1\n",
    "for result in payloads:\n",
    "    print (\" Result:\" +  str(counter))\n",
    "    pprint(result[\"alt\"] + \" \" + result[\"description\"])\n",
    "    pprint(\"City is \" + result[\"city\"])\n",
    "    print(\"=================\")\n",
    "    counter += 1"
   ]
  },
  {
   "cell_type": "code",
   "execution_count": 28,
   "metadata": {},
   "outputs": [],
   "source": [
    "from qdrant_client.models import Filter\n",
    "\n",
    "city_of_interest = \"Chicago\"\n",
    "\n",
    "# Define a filter for cities\n",
    "city_filter = models.Filter(\n",
    "        must=[\n",
    "            models.FieldCondition(\n",
    "                key=\"city\",\n",
    "                match=models.MatchValue(value=city_of_interest),\n",
    "            ) ] )\n",
    "search_result = qdrant_client.search(\n",
    "collection_name=COLLECTION_NAME,\n",
    "query_vector=vector,\n",
    "query_filter=city_filter,\n",
    "limit=5)"
   ]
  },
  {
   "cell_type": "code",
   "execution_count": 29,
   "metadata": {},
   "outputs": [],
   "source": [
    "# `search_result` contains found vector ids with similarity scores along with the stored payload\n",
    "# In this function you are interested in payload only\n",
    "payloads = [hit.payload for hit in search_result]"
   ]
  },
  {
   "cell_type": "code",
   "execution_count": 30,
   "metadata": {},
   "outputs": [
    {
     "name": "stdout",
     "output_type": "stream",
     "text": [
      " Result:1\n",
      "('Lightswitch -  video online video advertising mobile video Online video '\n",
      " 'products to help local businesses find new customers.\\n'\n",
      " 'Online video products that help small business owners reach and convert new '\n",
      " 'customers.')\n",
      "'City is Chicago'\n",
      "=================\n",
      " Result:2\n",
      "('Storymix Media -  digital media video B2B brand marketing Crowdsourced '\n",
      " 'content and automated video creation platform (Capital Factory 2011)\\n'\n",
      " \"Millions of videos are taken at events like your child's soccer game, SXSW, \"\n",
      " 'or the CES. Yet 99% of those videos are never seen, much less transformed '\n",
      " 'into something of value.\\n'\n",
      " 'Enter VideoStitch. Easily crowdsource and access the video clips and photos '\n",
      " 'from everyone ...')\n",
      "'City is Chicago'\n",
      "=================\n",
      " Result:3\n",
      "(\"Curiosity.com -  mobile digital media education video streaming The web's \"\n",
      " 'best learning content.\\n'\n",
      " \"We've aggregated and organized hundreds of thousands of the web's best \"\n",
      " 'learning videos and content providers so you can discover and learn '\n",
      " 'something new every day.')\n",
      "'City is Chicago'\n",
      "=================\n",
      " Result:4\n",
      "'Tap.me -  mobile games video games mobile games '\n",
      "'City is Chicago'\n",
      "=================\n",
      " Result:5\n",
      "('Brickfish -  social media platforms social media marketing apps social '\n",
      " 'network media ')\n",
      "'City is Chicago'\n",
      "=================\n"
     ]
    }
   ],
   "source": [
    "counter = 1\n",
    "for result in payloads:\n",
    "    print (\" Result:\" +  str(counter))\n",
    "    pprint(result[\"alt\"] + \" \" + result[\"description\"])\n",
    "    pprint(\"City is \" + result[\"city\"])\n",
    "    print(\"=================\")\n",
    "    counter += 1"
   ]
  },
  {
   "cell_type": "code",
   "execution_count": null,
   "metadata": {},
   "outputs": [],
   "source": []
  }
 ],
 "metadata": {
  "kernelspec": {
   "display_name": "env",
   "language": "python",
   "name": "python3"
  },
  "language_info": {
   "codemirror_mode": {
    "name": "ipython",
    "version": 3
   },
   "file_extension": ".py",
   "mimetype": "text/x-python",
   "name": "python",
   "nbconvert_exporter": "python",
   "pygments_lexer": "ipython3",
   "version": "3.8.10"
  },
  "orig_nbformat": 4
 },
 "nbformat": 4,
 "nbformat_minor": 2
}
